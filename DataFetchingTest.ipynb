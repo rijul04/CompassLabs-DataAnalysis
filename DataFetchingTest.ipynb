{
 "cells": [
  {
   "cell_type": "code",
   "execution_count": 4,
   "metadata": {},
   "outputs": [
    {
     "name": "stdout",
     "output_type": "stream",
     "text": [
      "Connection successful\n",
      "('0xc8ee91a54287db53897056e12d9819156d3822fb', 233119583, 'EventLog', {'eventNameHash': '7bcaf0f98c536687fed4799d80873ee115f406e067333b67959d4d4a62ada5a4', 'msgSender': '0x4895170e184441da9BD2bF95c120c07ba628eeF0', 'eventName': 'InitializePositionIncreasedAtTime', 'eventData': {'addressItems': {'items': [], 'arrayItems': []}, 'uintItems': {'items': [{'key': 'increasedAtTime', 'value': 1721211480}], 'arrayItems': []}, 'intItems': {'items': [], 'arrayItems': []}, 'boolItems': {'items': [], 'arrayItems': []}, 'bytes32Items': {'items': [{'key': 'key', 'value': '55c29996b30692db6c6f7d00ef2889e2365b66a63e25dd2fe876868c1ee4f06d'}], 'arrayItems': []}, 'bytesItems': {'items': [], 'arrayItems': []}, 'stringItems': {'items': [], 'arrayItems': []}}}, '0xae04a8e330cf5ac20b5633dc6d573ac3e256ef54f73d1e036d2e6b9983faa0c7', 11626200, 10000000, 110, datetime.datetime(2024, 7, 17, 10, 18))\n",
      "('0xc8ee91a54287db53897056e12d9819156d3822fb', 233119583, 'EventLog', {'eventNameHash': 'ec0b61c2da524c0da7c4118293909e119d8cdb4979ad3aa3ab733e1c272c6458', 'msgSender': '0x4895170e184441da9BD2bF95c120c07ba628eeF0', 'eventName': 'InitializePositionDecreasedAtTime', 'eventData': {'addressItems': {'items': [], 'arrayItems': []}, 'uintItems': {'items': [{'key': 'decreasedAtTime', 'value': 1721211480}], 'arrayItems': []}, 'intItems': {'items': [], 'arrayItems': []}, 'boolItems': {'items': [], 'arrayItems': []}, 'bytes32Items': {'items': [{'key': 'key', 'value': '55c29996b30692db6c6f7d00ef2889e2365b66a63e25dd2fe876868c1ee4f06d'}], 'arrayItems': []}, 'bytesItems': {'items': [], 'arrayItems': []}, 'stringItems': {'items': [], 'arrayItems': []}}}, '0xae04a8e330cf5ac20b5633dc6d573ac3e256ef54f73d1e036d2e6b9983faa0c7', 11626200, 10000000, 111, datetime.datetime(2024, 7, 17, 10, 18))\n",
      "('0xc8ee91a54287db53897056e12d9819156d3822fb', 233119583, 'EventLog', {'eventNameHash': '7bcaf0f98c536687fed4799d80873ee115f406e067333b67959d4d4a62ada5a4', 'msgSender': '0x4895170e184441da9BD2bF95c120c07ba628eeF0', 'eventName': 'InitializePositionIncreasedAtTime', 'eventData': {'addressItems': {'items': [], 'arrayItems': []}, 'uintItems': {'items': [{'key': 'increasedAtTime', 'value': 1721211480}], 'arrayItems': []}, 'intItems': {'items': [], 'arrayItems': []}, 'boolItems': {'items': [], 'arrayItems': []}, 'bytes32Items': {'items': [{'key': 'key', 'value': '63c56236b710dfcf1c094db866d3f3dc632545e499a22fe2f5ca37cc92e3fd97'}], 'arrayItems': []}, 'bytesItems': {'items': [], 'arrayItems': []}, 'stringItems': {'items': [], 'arrayItems': []}}}, '0xae04a8e330cf5ac20b5633dc6d573ac3e256ef54f73d1e036d2e6b9983faa0c7', 11626200, 10000000, 112, datetime.datetime(2024, 7, 17, 10, 18))\n",
      "('0xc8ee91a54287db53897056e12d9819156d3822fb', 233119583, 'EventLog', {'eventNameHash': 'ec0b61c2da524c0da7c4118293909e119d8cdb4979ad3aa3ab733e1c272c6458', 'msgSender': '0x4895170e184441da9BD2bF95c120c07ba628eeF0', 'eventName': 'InitializePositionDecreasedAtTime', 'eventData': {'addressItems': {'items': [], 'arrayItems': []}, 'uintItems': {'items': [{'key': 'decreasedAtTime', 'value': 1721211480}], 'arrayItems': []}, 'intItems': {'items': [], 'arrayItems': []}, 'boolItems': {'items': [], 'arrayItems': []}, 'bytes32Items': {'items': [{'key': 'key', 'value': '63c56236b710dfcf1c094db866d3f3dc632545e499a22fe2f5ca37cc92e3fd97'}], 'arrayItems': []}, 'bytesItems': {'items': [], 'arrayItems': []}, 'stringItems': {'items': [], 'arrayItems': []}}}, '0xae04a8e330cf5ac20b5633dc6d573ac3e256ef54f73d1e036d2e6b9983faa0c7', 11626200, 10000000, 113, datetime.datetime(2024, 7, 17, 10, 18))\n",
      "('0xc8ee91a54287db53897056e12d9819156d3822fb', 233119583, 'EventLog', {'eventNameHash': '7bcaf0f98c536687fed4799d80873ee115f406e067333b67959d4d4a62ada5a4', 'msgSender': '0x4895170e184441da9BD2bF95c120c07ba628eeF0', 'eventName': 'InitializePositionIncreasedAtTime', 'eventData': {'addressItems': {'items': [], 'arrayItems': []}, 'uintItems': {'items': [{'key': 'increasedAtTime', 'value': 1721211480}], 'arrayItems': []}, 'intItems': {'items': [], 'arrayItems': []}, 'boolItems': {'items': [], 'arrayItems': []}, 'bytes32Items': {'items': [{'key': 'key', 'value': 'ce56183279357aa46e6719a2286a6e90191696beb574f78fad8edb4ad2a9f4d7'}], 'arrayItems': []}, 'bytesItems': {'items': [], 'arrayItems': []}, 'stringItems': {'items': [], 'arrayItems': []}}}, '0xae04a8e330cf5ac20b5633dc6d573ac3e256ef54f73d1e036d2e6b9983faa0c7', 11626200, 10000000, 114, datetime.datetime(2024, 7, 17, 10, 18))\n",
      "('0xc8ee91a54287db53897056e12d9819156d3822fb', 233119583, 'EventLog', {'eventNameHash': 'ec0b61c2da524c0da7c4118293909e119d8cdb4979ad3aa3ab733e1c272c6458', 'msgSender': '0x4895170e184441da9BD2bF95c120c07ba628eeF0', 'eventName': 'InitializePositionDecreasedAtTime', 'eventData': {'addressItems': {'items': [], 'arrayItems': []}, 'uintItems': {'items': [{'key': 'decreasedAtTime', 'value': 1721211480}], 'arrayItems': []}, 'intItems': {'items': [], 'arrayItems': []}, 'boolItems': {'items': [], 'arrayItems': []}, 'bytes32Items': {'items': [{'key': 'key', 'value': 'ce56183279357aa46e6719a2286a6e90191696beb574f78fad8edb4ad2a9f4d7'}], 'arrayItems': []}, 'bytesItems': {'items': [], 'arrayItems': []}, 'stringItems': {'items': [], 'arrayItems': []}}}, '0xae04a8e330cf5ac20b5633dc6d573ac3e256ef54f73d1e036d2e6b9983faa0c7', 11626200, 10000000, 115, datetime.datetime(2024, 7, 17, 10, 18))\n",
      "('0xc8ee91a54287db53897056e12d9819156d3822fb', 233119583, 'EventLog', {'eventNameHash': 'ec0b61c2da524c0da7c4118293909e119d8cdb4979ad3aa3ab733e1c272c6458', 'msgSender': '0x4895170e184441da9BD2bF95c120c07ba628eeF0', 'eventName': 'InitializePositionDecreasedAtTime', 'eventData': {'addressItems': {'items': [], 'arrayItems': []}, 'uintItems': {'items': [{'key': 'decreasedAtTime', 'value': 1721211480}], 'arrayItems': []}, 'intItems': {'items': [], 'arrayItems': []}, 'boolItems': {'items': [], 'arrayItems': []}, 'bytes32Items': {'items': [{'key': 'key', 'value': '41cbaea7f4fcefc5f88f364951b3319891c0eed78d4efcb755e55ec4a2af2076'}], 'arrayItems': []}, 'bytesItems': {'items': [], 'arrayItems': []}, 'stringItems': {'items': [], 'arrayItems': []}}}, '0xae04a8e330cf5ac20b5633dc6d573ac3e256ef54f73d1e036d2e6b9983faa0c7', 11626200, 10000000, 116, datetime.datetime(2024, 7, 17, 10, 18))\n",
      "('0xc8ee91a54287db53897056e12d9819156d3822fb', 233119583, 'EventLog', {'eventNameHash': '7bcaf0f98c536687fed4799d80873ee115f406e067333b67959d4d4a62ada5a4', 'msgSender': '0x4895170e184441da9BD2bF95c120c07ba628eeF0', 'eventName': 'InitializePositionIncreasedAtTime', 'eventData': {'addressItems': {'items': [], 'arrayItems': []}, 'uintItems': {'items': [{'key': 'increasedAtTime', 'value': 1721211480}], 'arrayItems': []}, 'intItems': {'items': [], 'arrayItems': []}, 'boolItems': {'items': [], 'arrayItems': []}, 'bytes32Items': {'items': [{'key': 'key', 'value': 'fb0a032da9c948e5fb482dfe069d130ea8f57b7d1a20206669bb2f7f87948264'}], 'arrayItems': []}, 'bytesItems': {'items': [], 'arrayItems': []}, 'stringItems': {'items': [], 'arrayItems': []}}}, '0xae04a8e330cf5ac20b5633dc6d573ac3e256ef54f73d1e036d2e6b9983faa0c7', 11626200, 10000000, 117, datetime.datetime(2024, 7, 17, 10, 18))\n",
      "('0xc8ee91a54287db53897056e12d9819156d3822fb', 233119583, 'EventLog', {'eventNameHash': 'ec0b61c2da524c0da7c4118293909e119d8cdb4979ad3aa3ab733e1c272c6458', 'msgSender': '0x4895170e184441da9BD2bF95c120c07ba628eeF0', 'eventName': 'InitializePositionDecreasedAtTime', 'eventData': {'addressItems': {'items': [], 'arrayItems': []}, 'uintItems': {'items': [{'key': 'decreasedAtTime', 'value': 1721211480}], 'arrayItems': []}, 'intItems': {'items': [], 'arrayItems': []}, 'boolItems': {'items': [], 'arrayItems': []}, 'bytes32Items': {'items': [{'key': 'key', 'value': 'fb0a032da9c948e5fb482dfe069d130ea8f57b7d1a20206669bb2f7f87948264'}], 'arrayItems': []}, 'bytesItems': {'items': [], 'arrayItems': []}, 'stringItems': {'items': [], 'arrayItems': []}}}, '0xae04a8e330cf5ac20b5633dc6d573ac3e256ef54f73d1e036d2e6b9983faa0c7', 11626200, 10000000, 118, datetime.datetime(2024, 7, 17, 10, 18))\n",
      "('0xc8ee91a54287db53897056e12d9819156d3822fb', 233119583, 'EventLog', {'eventNameHash': '7bcaf0f98c536687fed4799d80873ee115f406e067333b67959d4d4a62ada5a4', 'msgSender': '0x4895170e184441da9BD2bF95c120c07ba628eeF0', 'eventName': 'InitializePositionIncreasedAtTime', 'eventData': {'addressItems': {'items': [], 'arrayItems': []}, 'uintItems': {'items': [{'key': 'increasedAtTime', 'value': 1721211480}], 'arrayItems': []}, 'intItems': {'items': [], 'arrayItems': []}, 'boolItems': {'items': [], 'arrayItems': []}, 'bytes32Items': {'items': [{'key': 'key', 'value': 'f3485daeb14e17a5d7035b76c35e585c51906bf71b891875704dfa5755e22eac'}], 'arrayItems': []}, 'bytesItems': {'items': [], 'arrayItems': []}, 'stringItems': {'items': [], 'arrayItems': []}}}, '0xae04a8e330cf5ac20b5633dc6d573ac3e256ef54f73d1e036d2e6b9983faa0c7', 11626200, 10000000, 119, datetime.datetime(2024, 7, 17, 10, 18))\n",
      "Connection closed\n"
     ]
    }
   ],
   "source": [
    "import psycopg2\n",
    "\n",
    "# Database connection details\n",
    "host = \"34.77.163.253\"\n",
    "port = \"5432\"\n",
    "dbname = \"dojo_data\"\n",
    "user = \"i-can-only-read-gmx-data\"\n",
    "password = \"house-football-checksum-11\"\n",
    "\n",
    "# Query you want to run\n",
    "query = \"SELECT * FROM hackathon_arbitrum_events LIMIT 10;\"  # Replace with your table name\n",
    "\n",
    "try:\n",
    "    # Establish the connection\n",
    "    connection = psycopg2.connect(\n",
    "        host=host,\n",
    "        port=port,\n",
    "        dbname=dbname,\n",
    "        user=user,\n",
    "        password=password\n",
    "    )\n",
    "    print(\"Connection successful\")\n",
    "\n",
    "    # Create a cursor object\n",
    "    cursor = connection.cursor()\n",
    "\n",
    "    # Execute the query\n",
    "    cursor.execute(query)\n",
    "\n",
    "    # Fetch and print the results\n",
    "    rows = cursor.fetchall()\n",
    "    for row in rows:\n",
    "        print(row)\n",
    "\n",
    "except Exception as e:\n",
    "    print(f\"Error connecting to the database or executing query: {e}\")\n",
    "\n",
    "finally:\n",
    "    # Ensure resources are closed\n",
    "    try:\n",
    "        cursor.close()\n",
    "        connection.close()\n",
    "        print(\"Connection closed\")\n",
    "    except:\n",
    "        pass\n"
   ]
  }
 ],
 "metadata": {
  "kernelspec": {
   "display_name": "Python 3",
   "language": "python",
   "name": "python3"
  },
  "language_info": {
   "codemirror_mode": {
    "name": "ipython",
    "version": 3
   },
   "file_extension": ".py",
   "mimetype": "text/x-python",
   "name": "python",
   "nbconvert_exporter": "python",
   "pygments_lexer": "ipython3",
   "version": "3.10.12"
  }
 },
 "nbformat": 4,
 "nbformat_minor": 2
}
