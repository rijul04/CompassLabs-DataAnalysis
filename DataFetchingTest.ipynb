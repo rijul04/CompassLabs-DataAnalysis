{
 "cells": [
  {
   "cell_type": "code",
   "execution_count": 3,
   "metadata": {},
   "outputs": [
    {
     "name": "stdout",
     "output_type": "stream",
     "text": [
      "Connection successful\n",
      "Error connecting to the database or executing query: relation \"hackathon_arbitrum_call_events\" does not exist\n",
      "LINE 1: SELECT * FROM hackathon_arbitrum_call_events LIMIT 10;\n",
      "                      ^\n",
      "\n",
      "Connection closed\n"
     ]
    }
   ],
   "source": [
    "import psycopg2\n",
    "\n",
    "# Database connection details\n",
    "host = \"34.77.163.253\"\n",
    "port = \"5432\"\n",
    "dbname = \"dojo_data\"\n",
    "user = \"i-can-only-read-gmx-data\"\n",
    "password = \"house-football-checksum-11\"\n",
    "\n",
    "# Query you want to run\n",
    "query = \"SELECT * FROM hackathon_arbitrum_events LIMIT 10;\"  # Replace with your table name\n",
    "\n",
    "try:\n",
    "    # Establish the connection\n",
    "    connection = psycopg2.connect(\n",
    "        host=host,\n",
    "        port=port,\n",
    "        dbname=dbname,\n",
    "        user=user,\n",
    "        password=password\n",
    "    )\n",
    "    print(\"Connection successful\")\n",
    "\n",
    "    # Create a cursor object\n",
    "    cursor = connection.cursor()\n",
    "\n",
    "    # Execute the query\n",
    "    cursor.execute(query)\n",
    "\n",
    "    # Fetch and print the results\n",
    "    rows = cursor.fetchall()\n",
    "    for row in rows:\n",
    "        print(row)\n",
    "\n",
    "except Exception as e:\n",
    "    print(f\"Error connecting to the database or executing query: {e}\")\n",
    "\n",
    "finally:\n",
    "    # Ensure resources are closed\n",
    "    try:\n",
    "        cursor.close()\n",
    "        connection.close()\n",
    "        print(\"Connection closed\")\n",
    "    except:\n",
    "        pass\n"
   ]
  }
 ],
 "metadata": {
  "kernelspec": {
   "display_name": "Python 3",
   "language": "python",
   "name": "python3"
  },
  "language_info": {
   "codemirror_mode": {
    "name": "ipython",
    "version": 3
   },
   "file_extension": ".py",
   "mimetype": "text/x-python",
   "name": "python",
   "nbconvert_exporter": "python",
   "pygments_lexer": "ipython3",
   "version": "3.10.12"
  }
 },
 "nbformat": 4,
 "nbformat_minor": 2
}
